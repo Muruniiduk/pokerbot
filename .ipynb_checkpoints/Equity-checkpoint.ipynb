{
 "cells": [
  {
   "cell_type": "code",
   "execution_count": 1,
   "metadata": {},
   "outputs": [],
   "source": [
    "from deuces import Card, Evaluator, Deck\n",
    "from itertools import combinations, permutations\n",
    "import numpy as np\n",
    "import pandas as pd\n",
    "import copy"
   ]
  },
  {
   "cell_type": "code",
   "execution_count": 38,
   "metadata": {},
   "outputs": [
    {
     "name": "stdout",
     "output_type": "stream",
     "text": [
      "Python 3.6.5 :: Anaconda, Inc.\n",
      "Python 3.6.5 :: Anaconda, Inc.\n"
     ]
    }
   ],
   "source": [
    "!python --version\n",
    "import sys\n",
    "sys.version\n",
    "!python --version"
   ]
  },
  {
   "cell_type": "markdown",
   "metadata": {},
   "source": [
    "## Calculating turn equity for 2 given hands"
   ]
  },
  {
   "cell_type": "code",
   "execution_count": 3,
   "metadata": {},
   "outputs": [],
   "source": [
    "deck = Deck()"
   ]
  },
  {
   "cell_type": "code",
   "execution_count": 4,
   "metadata": {},
   "outputs": [],
   "source": [
    "evaluator = Evaluator()\n",
    "board = deck.draw(4)\n",
    "hand1 = deck.draw(2)\n",
    "hand2 = deck.draw(2)"
   ]
  },
  {
   "cell_type": "code",
   "execution_count": 5,
   "metadata": {},
   "outputs": [
    {
     "name": "stdout",
     "output_type": "stream",
     "text": [
      "  [ 8 s ] , [ 2 c ]  \n",
      "  [ T h ] , [ 5 h ]  \n",
      "  [ A c ] , [ 3 c ] , [ Q s ] , [ Q d ]  \n"
     ]
    }
   ],
   "source": [
    "Card.print_pretty_cards(hand1)\n",
    "Card.print_pretty_cards(hand2)\n",
    "Card.print_pretty_cards(board)"
   ]
  },
  {
   "cell_type": "code",
   "execution_count": 6,
   "metadata": {},
   "outputs": [],
   "source": [
    "def draw(deck, card):\n",
    "    deck.cards.remove(Card.new(card))\n",
    "    return Card.new(card)\n",
    "\n",
    "def draw_hand(deck, card1, card2): return [draw(deck, card1), draw(deck, card2)]\n",
    "    \n",
    "def compare(hand1, hand2, board):\n",
    "    e1 = evaluator.evaluate(board, hand1)\n",
    "    e2 = evaluator.evaluate(board, hand2)\n",
    "#     print('For')\n",
    "#     Card.print_pretty_cards(hand1)\n",
    "#     Card.print_pretty_cards(hand2)\n",
    "#     Card.print_pretty_cards(board)\n",
    "#     print(\"results \", e1, e2)\n",
    "    if e1 < e2: return -1\n",
    "    if e1 > e2: return 1\n",
    "    return 0\n",
    "\n",
    "def equity(hand1,hand2,board):\n",
    "    windrawlose = [0,0,0]\n",
    "    for card in deck.cards:\n",
    "        result = compare(hand1,hand2,board+[card])\n",
    "        windrawlose[result+1] += 1\n",
    "    if (windrawlose[2] == 0): return 1\n",
    "    return np.round(windrawlose[0]/(windrawlose[0]+windrawlose[2]),decimals=3)"
   ]
  },
  {
   "cell_type": "code",
   "execution_count": 7,
   "metadata": {},
   "outputs": [
    {
     "name": "stdout",
     "output_type": "stream",
     "text": [
      "  [ 8 s ] , [ 2 c ]  \n",
      "  [ T h ] , [ 5 h ]  \n",
      "  [ A c ] , [ 3 c ] , [ Q s ] , [ Q d ]  \n"
     ]
    },
    {
     "data": {
      "text/plain": [
       "0.146"
      ]
     },
     "execution_count": 7,
     "metadata": {},
     "output_type": "execute_result"
    }
   ],
   "source": [
    "Card.print_pretty_cards(hand1)\n",
    "Card.print_pretty_cards(hand2)\n",
    "Card.print_pretty_cards(board)\n",
    "equity(hand1,hand2,board)"
   ]
  },
  {
   "cell_type": "markdown",
   "metadata": {},
   "source": [
    "## Calculating river equity for 1 known hand vs any2"
   ]
  },
  {
   "cell_type": "code",
   "execution_count": 11,
   "metadata": {},
   "outputs": [],
   "source": [
    "deck = Deck()\n",
    "board = deck.draw(5)\n",
    "# hand2 = deck.draw(2)"
   ]
  },
  {
   "cell_type": "code",
   "execution_count": 12,
   "metadata": {},
   "outputs": [],
   "source": [
    "hand1 = draw_hand(deck, \"As\", \"Ac\")"
   ]
  },
  {
   "cell_type": "code",
   "execution_count": 13,
   "metadata": {
    "scrolled": true
   },
   "outputs": [
    {
     "data": {
      "text/plain": [
       "[268442665, 268471337]"
      ]
     },
     "execution_count": 13,
     "metadata": {},
     "output_type": "execute_result"
    }
   ],
   "source": [
    "hand1"
   ]
  },
  {
   "cell_type": "code",
   "execution_count": 14,
   "metadata": {},
   "outputs": [
    {
     "name": "stdout",
     "output_type": "stream",
     "text": [
      "  [ J h ] , [ 8 h ] , [ Q c ] , [ T d ] , [ T c ]  \n"
     ]
    }
   ],
   "source": [
    "Card.print_pretty_cards(board)"
   ]
  },
  {
   "cell_type": "code",
   "execution_count": 15,
   "metadata": {},
   "outputs": [],
   "source": [
    "def equity(hand1, board):\n",
    "    windrawlose = [0,0,0]\n",
    "    for hand2 in combinations(deck.cards, 2):\n",
    "        hand2 = list(hand2)\n",
    "        result = compare(hand1, hand2, board)\n",
    "        windrawlose[result+1] += 1\n",
    "    if (windrawlose[2] == 0): return 1\n",
    "    return np.round(windrawlose[0]/(windrawlose[0]+windrawlose[2]),decimals=3)"
   ]
  },
  {
   "cell_type": "code",
   "execution_count": 17,
   "metadata": {
    "scrolled": true
   },
   "outputs": [
    {
     "name": "stdout",
     "output_type": "stream",
     "text": [
      "  [ A s ] , [ A c ]  \n",
      "  [ J h ] , [ 8 h ] , [ Q c ] , [ T d ] , [ T c ]  \n"
     ]
    },
    {
     "data": {
      "text/plain": [
       "0.731"
      ]
     },
     "execution_count": 17,
     "metadata": {},
     "output_type": "execute_result"
    }
   ],
   "source": [
    "Card.print_pretty_cards(hand1)\n",
    "Card.print_pretty_cards(board)\n",
    "equity(hand1,board)"
   ]
  },
  {
   "cell_type": "markdown",
   "metadata": {},
   "source": [
    "## Hand ranges"
   ]
  },
  {
   "cell_type": "markdown",
   "metadata": {},
   "source": [
    "Method for creating a list (or set) of hands that satisfy a given string. For QQ+ it returns \\[QQ,KK,AA\\] with all suits. This can be slow, because it will be given from user only once, I think?\n",
    "\n",
    "Example: \"22+, AQ+,ATs+,KJs+\"\n",
    "\n",
    "Formula:\n",
    "\n",
    "- If are same, then + means that pocket pair or higher.\n",
    "- If different, then first card remains same, second will rise.\n",
    "- If s is at the end, then must be same suit."
   ]
  },
  {
   "cell_type": "code",
   "execution_count": 18,
   "metadata": {},
   "outputs": [],
   "source": [
    "def uniq(lst):\n",
    "    last = object()\n",
    "    for item in lst:\n",
    "        if item == last:\n",
    "            continue\n",
    "        yield item\n",
    "        last = item\n",
    "\n",
    "def sort_and_deduplicate(l):\n",
    "    return list(uniq(sorted(l, reverse=True)))\n",
    "\n",
    "def get_hand_range(range_string):\n",
    "    \"\"\"Expect correct syntax\"\"\"\n",
    "    order = [\"2\",\"3\",\"4\",\"5\",\"6\",\"7\",\"8\",\"9\",\"T\",\"J\",\"Q\",\"K\",\"A\"]\n",
    "    suits = ['s','h','d','c']\n",
    "    res_range = list() #RESULT\n",
    "    condition_list = range_string.replace(' ','').split(',')\n",
    "    for condition in condition_list:\n",
    "        fst = condition[0]\n",
    "        snd = condition[1]\n",
    "        \n",
    "        if fst==snd and '+' in condition: #\"\"\"Pockets\"\"\"\n",
    "            for i in range(order.index(fst),len(order)):\n",
    "                for suit_pair in combinations(suits,2): #matters not, which card is which suit\n",
    "                    res_range += [[Card.new(order[i]+suit_pair[0]),Card.new(order[i]+suit_pair[1])]]\n",
    "        elif 's' in condition and '+' in condition and len(condition)==4: #\"\"\"Suits and +\"\"\"\n",
    "            for i in range(order.index(snd),order.index(fst)):\n",
    "                for suit in suits:\n",
    "                    res_range += [[Card.new(fst+suit),Card.new(order[i]+suit)]]\n",
    "        elif '+' in condition and len(condition)==3: #\"\"\"Only +\"\"\"\n",
    "            for i in range(order.index(snd),order.index(fst)):\n",
    "                for suit_pair in permutations(suits,2): #doesn't consider suitedness luckily\n",
    "                    res_range += [[Card.new(fst+suit_pair[0]),Card.new(order[i]+suit_pair[1])]]\n",
    "        elif 's' in condition and len(condition)==3: #\"\"\"Only s\"\"\"\n",
    "            for suit in suits:\n",
    "                res_range += [[Card.new(fst+suit),Card.new(snd+suit)]]\n",
    "        elif len(condition)==4: #\"\"\"With given suits\"\"\"\n",
    "            res_range += [[Card.new(condition[:2]),Card.new(condition[2:])]]\n",
    "        else: #\"\"\"Given combo with any nonsuits\"\"\"\n",
    "            for suit_pair in permutations(suits,2): \n",
    "                res_range += [[Card.new(fst+suit_pair[0]),Card.new(order[i]+suit_pair[1])]]\n",
    "    return sort_and_deduplicate(res_range)"
   ]
  },
  {
   "cell_type": "code",
   "execution_count": 19,
   "metadata": {},
   "outputs": [
    {
     "name": "stdout",
     "output_type": "stream",
     "text": [
      "  [ 3 c ] , [ 2 d ]  \n",
      "  [ 3 c ] , [ 2 h ]  \n",
      "  [ 3 c ] , [ 2 s ]  \n",
      "  [ 3 d ] , [ 2 c ]  \n",
      "  [ 3 d ] , [ 2 h ]  \n",
      "  [ 3 d ] , [ 2 s ]  \n",
      "  [ 3 h ] , [ 2 c ]  \n",
      "  [ 3 h ] , [ 2 d ]  \n",
      "  [ 3 h ] , [ 2 s ]  \n",
      "  [ 3 s ] , [ 2 c ]  \n",
      "  [ 3 s ] , [ 2 d ]  \n",
      "  [ 3 s ] , [ 2 h ]  \n"
     ]
    }
   ],
   "source": [
    "r = get_hand_range(\"32+\")\n",
    "for hand in r:\n",
    "    Card.print_pretty_cards(hand)"
   ]
  },
  {
   "cell_type": "code",
   "execution_count": 20,
   "metadata": {},
   "outputs": [],
   "source": [
    "def filter_known(allknown, hand_range):\n",
    "    res = list()\n",
    "    for hand in hand_range:\n",
    "        if not (hand[0] in allknown or hand[1] in allknown): res += [hand]\n",
    "    return res"
   ]
  },
  {
   "cell_type": "code",
   "execution_count": 21,
   "metadata": {
    "scrolled": true
   },
   "outputs": [
    {
     "name": "stdout",
     "output_type": "stream",
     "text": [
      "6\n",
      "After removing one\n",
      " 3\n"
     ]
    }
   ],
   "source": [
    "r = get_hand_range(\"AA+\")\n",
    "print(len(r))\n",
    "r = filter_known([Card.new(\"As\")],r)\n",
    "print('After removing one\\n', len(r))"
   ]
  },
  {
   "cell_type": "markdown",
   "metadata": {},
   "source": [
    "## Equity for one known hand vs range"
   ]
  },
  {
   "cell_type": "code",
   "execution_count": 26,
   "metadata": {},
   "outputs": [],
   "source": [
    "deck = Deck()\n",
    "board = deck.draw(5)\n",
    "hand1 = draw_hand(deck, \"Js\", \"Jc\")"
   ]
  },
  {
   "cell_type": "code",
   "execution_count": 27,
   "metadata": {},
   "outputs": [],
   "source": [
    "def equity(hand1, board, range_string):\n",
    "    windrawlose = [0,0,0]\n",
    "    for hand2 in filter_known(board+hand1, get_hand_range(range_string)):\n",
    "        result = compare(hand1, hand2, board)\n",
    "        windrawlose[result+1] += 1\n",
    "    if (windrawlose[2] == 0): return 1\n",
    "    return np.round(windrawlose[0]/(windrawlose[0]+windrawlose[2]),decimals=3)"
   ]
  },
  {
   "cell_type": "code",
   "execution_count": 28,
   "metadata": {
    "scrolled": true
   },
   "outputs": [
    {
     "name": "stdout",
     "output_type": "stream",
     "text": [
      "  [ J s ] , [ J c ]  \n",
      "  [ 4 c ] , [ Q c ] , [ 8 d ] , [ 3 c ] , [ 4 s ]  \n"
     ]
    },
    {
     "data": {
      "text/plain": [
       "0.4"
      ]
     },
     "execution_count": 28,
     "metadata": {},
     "output_type": "execute_result"
    }
   ],
   "source": [
    "Card.print_pretty_cards(hand1)\n",
    "Card.print_pretty_cards(board)\n",
    "equity(hand1,board, \"88+\")"
   ]
  },
  {
   "cell_type": "markdown",
   "metadata": {},
   "source": [
    "## Equity for range vs range"
   ]
  },
  {
   "cell_type": "code",
   "execution_count": 39,
   "metadata": {},
   "outputs": [],
   "source": [
    "deck = Deck()\n",
    "board = deck.draw(5)"
   ]
  },
  {
   "cell_type": "code",
   "execution_count": 52,
   "metadata": {},
   "outputs": [],
   "source": [
    "def equity(range1, range2, board):\n",
    "    windrawlose = [0,0,0]    \n",
    "    for hand1 in get_hand_range(range1):\n",
    "        for hand2 in filter_known(board+hand1, get_hand_range(range2)):\n",
    "            result = compare(hand1, hand2, board)\n",
    "            windrawlose[result+1] += 1\n",
    "    if (windrawlose[2] == 0): return 1\n",
    "    return np.round(windrawlose[0]/(windrawlose[0]+windrawlose[2]),decimals=3)"
   ]
  },
  {
   "cell_type": "code",
   "execution_count": 53,
   "metadata": {},
   "outputs": [
    {
     "data": {
      "text/plain": [
       "0.356"
      ]
     },
     "execution_count": 53,
     "metadata": {},
     "output_type": "execute_result"
    }
   ],
   "source": [
    "equity(\"22+,Q7s+,K8s+,A2s+,A5+,JTs,KTs,JQs,KJs,KQs\", \"22+,ATs,AT\", board)"
   ]
  },
  {
   "cell_type": "code",
   "execution_count": 47,
   "metadata": {},
   "outputs": [
    {
     "name": "stdout",
     "output_type": "stream",
     "text": [
      "  [ 3 h ] , [ Q d ] , [ 4 c ] , [ 9 c ] , [ 2 s ]  \n"
     ]
    }
   ],
   "source": [
    "Card.print_pretty_cards(board)"
   ]
  },
  {
   "cell_type": "code",
   "execution_count": null,
   "metadata": {},
   "outputs": [],
   "source": []
  }
 ],
 "metadata": {
  "kernelspec": {
   "display_name": "Python 3",
   "language": "python",
   "name": "python3"
  },
  "language_info": {
   "codemirror_mode": {
    "name": "ipython",
    "version": 3
   },
   "file_extension": ".py",
   "mimetype": "text/x-python",
   "name": "python",
   "nbconvert_exporter": "python",
   "pygments_lexer": "ipython3",
   "version": "3.6.5"
  }
 },
 "nbformat": 4,
 "nbformat_minor": 2
}
