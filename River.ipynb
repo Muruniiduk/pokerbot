{
 "cells": [
  {
   "cell_type": "code",
   "execution_count": 29,
   "metadata": {},
   "outputs": [],
   "source": [
    "from Equity import equity, get_hand_range, filter_known, compare\n",
    "from deuces import Card, Evaluator, Deck\n",
    "from itertools import combinations, permutations\n",
    "import numpy as np\n",
    "import pandas as pd\n",
    "import copy\n",
    "import operator"
   ]
  },
  {
   "cell_type": "code",
   "execution_count": 30,
   "metadata": {},
   "outputs": [],
   "source": [
    "deck = Deck()\n",
    "board = deck.draw(5)"
   ]
  },
  {
   "cell_type": "code",
   "execution_count": 31,
   "metadata": {},
   "outputs": [
    {
     "name": "stdout",
     "output_type": "stream",
     "text": [
      "  [ K s ] , [ 7 h ] , [ A s ] , [ 6 c ] , [ 9 h ]  \n"
     ]
    }
   ],
   "source": [
    "# Jupyter examples on this specific board\n",
    "board = []\n",
    "for card_str in ['Ks', '7h', 'As', '6c', '9h']:\n",
    "    board += [Card.new(card_str)]\n",
    "Card.print_pretty_cards(board)"
   ]
  },
  {
   "cell_type": "markdown",
   "metadata": {},
   "source": [
    "# Very simple situation\n",
    "\n",
    "Let us assume a river, where the effective SPR (stack-to-pot ratio) is 1. The possible betting size for hero is 0.5. Villain can only shove (bet 1). Hero is out of position (OOP).\n",
    "\n",
    "Can the NN be as simple as:\n",
    "- input: hand's percentile rank vs own range and rank vs opponent's perceivied range\n",
    "- output: 1 node for each decision (x/f, x/c, b/f, b/c)\n",
    "\n",
    "Opponent can only shove.\n",
    "- (x, c, b)\n",
    "\n",
    "Dumb bot to train against - defending (call+bet freq) frequency is such that bluffing any two against it wouldn't be profitable.\n",
    "\n",
    "If bot calls and wins, it win's 1+bet, if not, then loses bet. If we bet 100% of the time with it's own range then it needs to call top bet/(1+bet) of the hands. It will bet the best third of calling hands."
   ]
  },
  {
   "cell_type": "code",
   "execution_count": 32,
   "metadata": {},
   "outputs": [],
   "source": [
    "crange = filter_known(board, get_hand_range(\"AQ+, 99+, ATs+, Ah2h, Ah3h, Ah4h, Ah5h, Ah6h, Ah7h, Ah8h, Ah9h\"))"
   ]
  },
  {
   "cell_type": "code",
   "execution_count": 33,
   "metadata": {},
   "outputs": [],
   "source": [
    "# dumb bot strategy\n",
    "def getAction(board, betSize, myRange, myHand):\n",
    "    hand2eq = dict()\n",
    "    for hand in myRange: hand2eq[str(hand)] = equity(list([hand]), myRange, board) #remember the equity vs range\n",
    "    sorted_hands = [hand for hand,x in sorted(hand2eq.items(), key=operator.itemgetter(1))] #sort cards by equity\n",
    "    freq = betSize/(1+betSize) #defending frequency s.t. bluffing 100% w/ same range wouldn't be profitable\n",
    "    hands = len(sorted_hands)\n",
    "    calling_hands = sorted_hands[int((1-2*freq/3.0)*hands):int((1-freq/3.0)*hands)] #bottom 2/3 of defending freq\n",
    "    betting_hands = sorted_hands[int((1-freq/3.0)*hands):] #top 1/3 of defending freq\n",
    "    if str(myHand) in betting_hands:\n",
    "        return \"bet\"\n",
    "    if str(myHand) in calling_hands:\n",
    "        return \"call\"\n",
    "    return \"fold\""
   ]
  },
  {
   "cell_type": "code",
   "execution_count": 34,
   "metadata": {},
   "outputs": [
    {
     "name": "stdout",
     "output_type": "stream",
     "text": [
      "  [ A h ] , [ A d ]  \n"
     ]
    },
    {
     "data": {
      "text/plain": [
       "'call'"
      ]
     },
     "execution_count": 34,
     "metadata": {},
     "output_type": "execute_result"
    }
   ],
   "source": [
    "Card.print_pretty_cards(crange[20])\n",
    "getAction(board, 0.5, crange, crange[58])"
   ]
  },
  {
   "cell_type": "code",
   "execution_count": 35,
   "metadata": {},
   "outputs": [],
   "source": [
    "def getPercentileRank(board, handRange, pHand):\n",
    "    hand2eq = dict()\n",
    "    for hand in handRange: hand2eq[str(hand)] = equity(list([hand]), handRange, board)\n",
    "    sorted_hands = [hand for hand,x in sorted(hand2eq.items(), key=operator.itemgetter(1))]\n",
    "    return sorted_hands.index(str(pHand))/len(sorted_hands)"
   ]
  },
  {
   "cell_type": "code",
   "execution_count": 36,
   "metadata": {},
   "outputs": [
    {
     "data": {
      "text/plain": [
       "0.9833333333333333"
      ]
     },
     "execution_count": 36,
     "metadata": {},
     "output_type": "execute_result"
    }
   ],
   "source": [
    "a = getPercentileRank(board, crange, crange[20])\n",
    "hand = crange[0]\n",
    "a"
   ]
  },
  {
   "cell_type": "markdown",
   "metadata": {},
   "source": [
    "## Reward function\n",
    "assumes lines to be legal"
   ]
  },
  {
   "cell_type": "code",
   "execution_count": 37,
   "metadata": {},
   "outputs": [],
   "source": [
    "heroLines = ['x/f', 'x/c', 'b/f', 'b/c'] # /action means when villain bets\n",
    "villainLines = ['xx', 'xb', 'bf','bc', 'bb'] #first char is hero's action\n",
    "def rewards(heroLine, heroHand, villainLine, villainHand, board):\n",
    "    hAction1, hAction2 = heroLine.split('/')\n",
    "    vAction = villainLine[1]\n",
    "    hIsWinner = True if compare(heroHand, villainHand, board) == -1 else False\n",
    "    if vAction == 'f': return (1.0,0)\n",
    "    if vAction == 'x': return (1 * hIsWinner, 1 * (1-hIsWinner) )\n",
    "    if vAction == 'c': return (2,-0.5) if hIsWinner else (-0.5,2)  #since bet is 0.5 then pot is 2\n",
    "    #below is eff. else: villain bets\n",
    "    if hAction1 == 'x' and hAction2 == 'f': return (0,1)\n",
    "    if hAction1 == 'b' and hAction2 == 'f': return (-0.5,1.5)\n",
    "    if hAction1 == 'x' and hAction2 == 'c': return (3,-1) if hIsWinner else (-1,3)\n",
    "    if hAction1 == 'b' and hAction2 == 'c': return (3,-1) if hIsWinner else (-1,3)\n",
    "    return \"error in rewards method\""
   ]
  },
  {
   "cell_type": "code",
   "execution_count": 38,
   "metadata": {},
   "outputs": [
    {
     "data": {
      "text/plain": [
       "['x', 'b']"
      ]
     },
     "execution_count": 38,
     "metadata": {},
     "output_type": "execute_result"
    }
   ],
   "source": [
    "def getPossible(lines, hAction): return list(filter(lambda line: line[0]==hAction, lines))\n",
    "list(map(lambda line: line[1], getPossible(villainLines, 'x')))\n",
    "#vLines = list(filter(lambda line: line[0]==hAction1, villainLines)) #filter out where line is legal\n",
    "#vActions = list(map(lambda line: line[1], vLines)) #get V actions"
   ]
  },
  {
   "cell_type": "code",
   "execution_count": 39,
   "metadata": {},
   "outputs": [
    {
     "name": "stdout",
     "output_type": "stream",
     "text": [
      "  [ A c ] , [ K c ]  \n",
      "  [ A c ] , [ Q h ]  \n",
      "  [ K s ] , [ 7 h ] , [ A s ] , [ 6 c ] , [ 9 h ]  \n"
     ]
    }
   ],
   "source": [
    "Card.print_pretty_cards(crange[0])\n",
    "Card.print_pretty_cards(crange[5])\n",
    "Card.print_pretty_cards(board)"
   ]
  },
  {
   "cell_type": "code",
   "execution_count": 40,
   "metadata": {},
   "outputs": [
    {
     "data": {
      "text/plain": [
       "(3, -1)"
      ]
     },
     "execution_count": 40,
     "metadata": {},
     "output_type": "execute_result"
    }
   ],
   "source": [
    "#If AcKc is hero for tree hero x, villain b, hero c\n",
    "rewards('x/c', crange[0], 'xb', crange[5], board)"
   ]
  },
  {
   "cell_type": "code",
   "execution_count": 41,
   "metadata": {},
   "outputs": [
    {
     "data": {
      "text/plain": [
       "(-1, 3)"
      ]
     },
     "execution_count": 41,
     "metadata": {},
     "output_type": "execute_result"
    }
   ],
   "source": [
    "#If sAcQh is hero for tree hero x, villain b, hero c\n",
    "rewards('x/c', crange[5], 'xb', crange[0], board)"
   ]
  },
  {
   "cell_type": "markdown",
   "metadata": {},
   "source": [
    "# Creating dataset\n",
    "\n",
    "Same range for villain for all boards, same for hero"
   ]
  },
  {
   "cell_type": "code",
   "execution_count": 55,
   "metadata": {},
   "outputs": [
    {
     "name": "stdout",
     "output_type": "stream",
     "text": [
      "66.666 66.667\n"
     ]
    }
   ],
   "source": [
    "bets = 3.5+8+21.833 #hero calls from SB 3.5, BB folds, Villain is In Position (IP)\n",
    "pot = 2 * bets\n",
    "stack = 100 - bets\n",
    "print(pot, stack) #SPR = 1"
   ]
  },
  {
   "cell_type": "code",
   "execution_count": 69,
   "metadata": {},
   "outputs": [
    {
     "name": "stdout",
     "output_type": "stream",
     "text": [
      "172 238\n"
     ]
    }
   ],
   "source": [
    "hrange = get_hand_range(\"AJ+, 66, 77, 88, 99, TT, JJ, A2s+, 98s, T9s, JTs, KQs\")\n",
    "vrange = get_hand_range(\"A9+, 22+, KQ, JQ, TJ, A2s+, 98s, T9s, JTs, KQs\")\n",
    "print(len(hrange), len(vrange))"
   ]
  },
  {
   "cell_type": "code",
   "execution_count": 89,
   "metadata": {},
   "outputs": [],
   "source": [
    "deck = Deck()\n",
    "board = deck.draw(5)"
   ]
  },
  {
   "cell_type": "code",
   "execution_count": 91,
   "metadata": {},
   "outputs": [
    {
     "name": "stdout",
     "output_type": "stream",
     "text": [
      "  [ A c ] , [ K c ]  \n",
      "  [ A c ] , [ K c ]  \n"
     ]
    },
    {
     "data": {
      "text/html": [
       "<div>\n",
       "<style scoped>\n",
       "    .dataframe tbody tr th:only-of-type {\n",
       "        vertical-align: middle;\n",
       "    }\n",
       "\n",
       "    .dataframe tbody tr th {\n",
       "        vertical-align: top;\n",
       "    }\n",
       "\n",
       "    .dataframe thead th {\n",
       "        text-align: right;\n",
       "    }\n",
       "</style>\n",
       "<table border=\"1\" class=\"dataframe\">\n",
       "  <thead>\n",
       "    <tr style=\"text-align: right;\">\n",
       "      <th></th>\n",
       "      <th>h_hand</th>\n",
       "      <th>v_hand</th>\n",
       "      <th>h_perc</th>\n",
       "      <th>v_perc</th>\n",
       "    </tr>\n",
       "  </thead>\n",
       "  <tbody>\n",
       "    <tr>\n",
       "      <th>0</th>\n",
       "      <td>None</td>\n",
       "      <td>None</td>\n",
       "      <td>0.866279</td>\n",
       "      <td>0.689076</td>\n",
       "    </tr>\n",
       "  </tbody>\n",
       "</table>\n",
       "</div>"
      ],
      "text/plain": [
       "  h_hand v_hand    h_perc    v_perc\n",
       "0   None   None  0.866279  0.689076"
      ]
     },
     "execution_count": 91,
     "metadata": {},
     "output_type": "execute_result"
    }
   ],
   "source": [
    "a = pd.DataFrame()\n",
    "a['h_hand'] = [Card.print_pretty_cards(hrange[0])]\n",
    "a['v_hand'] = [Card.print_pretty_cards(vrange[0])]\n",
    "a['h_perc'] = [getPercentileRank(board, hrange, hrange[0])]\n",
    "a['v_perc'] = [getPercentileRank(board, vrange, hrange[0])]\n",
    "a"
   ]
  },
  {
   "cell_type": "code",
   "execution_count": 94,
   "metadata": {},
   "outputs": [
    {
     "name": "stdout",
     "output_type": "stream",
     "text": [
      "Available kernels:\r\n",
      "  python3    /anaconda3/share/jupyter/kernels/python3\r\n"
     ]
    }
   ],
   "source": [
    "import sys\n",
    "sys.path\n",
    "!jupyter kernelspec list"
   ]
  },
  {
   "cell_type": "markdown",
   "metadata": {},
   "source": [
    "# Goal\n",
    "\n",
    "If our bot learns to play game theory optimal, we can expect to see couple of things:\n",
    "- it knows that you should bluff with worst hands with no equity\n",
    "- it knows to protect it's checking range (checks couple of good hands)"
   ]
  },
  {
   "cell_type": "markdown",
   "metadata": {},
   "source": [
    "**First idea.** Functional keras. 2 NN-s. 1 output is first action and 2nd is final action. 2nd NN gets same inputs as 1st but also output of the 1st. E.g. > 0.5 for the first is bet, for the second is call. How to implement reward or loss? Can reward-3 be considered as loss?"
   ]
  },
  {
   "cell_type": "code",
   "execution_count": null,
   "metadata": {},
   "outputs": [],
   "source": []
  }
 ],
 "metadata": {
  "kernelspec": {
   "display_name": "Python 3",
   "language": "python",
   "name": "python3"
  },
  "language_info": {
   "codemirror_mode": {
    "name": "ipython",
    "version": 3
   },
   "file_extension": ".py",
   "mimetype": "text/x-python",
   "name": "python",
   "nbconvert_exporter": "python",
   "pygments_lexer": "ipython3",
   "version": "3.6.5"
  }
 },
 "nbformat": 4,
 "nbformat_minor": 2
}
